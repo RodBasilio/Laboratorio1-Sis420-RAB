{
  "cells": [
    {
      "cell_type": "markdown",
      "metadata": {
        "id": "pkK7AigyNnXF"
      },
      "source": [
        "# Ejercicio de programación Regresión Lineal Multiple"
      ]
    },
    {
      "cell_type": "code",
      "execution_count": 623,
      "metadata": {
        "id": "uFXFSL8KNnXO"
      },
      "outputs": [],
      "source": [
        "# utilizado para manejos de directorios y rutas\n",
        "import os\n",
        "\n",
        "# Computacion vectorial y cientifica para python\n",
        "import numpy as np\n",
        "\n",
        "# Librerias para graficación (trazado de gráficos)\n",
        "from matplotlib import pyplot\n",
        "from mpl_toolkits.mplot3d import Axes3D  # Necesario para graficar superficies 3D\n",
        "\n",
        "# llama a matplotlib a embeber graficas dentro de los cuadernillos\n",
        "%matplotlib inline"
      ]
    },
    {
      "cell_type": "markdown",
      "metadata": {
        "id": "wWUIkEbmNnXS"
      },
      "source": [
        "## 2 Regresión lineal con multiples variables\n",
        "\n",
        "Se implementa la regresion lineal multivariable para predecir el precio de las casas. El archivo `Datasets/ex1data2.txt` contiene un conjunto de entrenamiento de precios de casas en Portland, Oregon. La primera columna es el tamaño de la casa en metros cuadrados, la segunda columna es el numero de cuartos, y la tercera columna es el precio de la casa. \n",
        "\n",
        "<a id=\"section4\"></a>\n",
        "### 2.1 Normalización de caracteristicas\n",
        "\n",
        "Al visualizar los datos se puede observar que las caracteristicas tienen diferentes magnitudes, por lo cual se debe transformar cada valor en una escala de valores similares, esto con el fin de que el descenso por el gradiente pueda converger mas rapidamente."
      ]
    },
    {
      "cell_type": "code",
      "execution_count": 624,
      "metadata": {
        "colab": {
          "base_uri": "https://localhost:8080/"
        },
        "id": "s7B3uKA-NnXU",
        "outputId": "5bbcdd2f-dbc8-4c35-ba29-346ec059a7b8"
      },
      "outputs": [
        {
          "output_type": "stream",
          "name": "stdout",
          "text": [
            "  X[:,0] X[:, 1]         y\n",
            "--------------------------\n",
            "     203       1       176\n",
            "     203       1       135\n",
            "     203       1       195\n",
            "     203       1       174\n",
            "     203       1       135\n",
            "     203       1       135\n",
            "     203       1       155\n",
            "     203       1       188\n",
            "     203       1       195\n",
            "     203       1        31\n"
          ]
        }
      ],
      "source": [
        "# Rodrigo Walter Andre Basilio\n",
        "# Cargar datos\n",
        "data = np.loadtxt(os.path.join('sales1.csv'), delimiter=',')\n",
        "X = data[:, :16]\n",
        "y = data[:, 16]\n",
        "m = y.size\n",
        "\n",
        "# imprimir algunos puntos de datos\n",
        "print('{:>8s}{:>8s}{:>10s}'.format('X[:,0]', 'X[:, 1]', 'y'))\n",
        "print('-'*26)\n",
        "for i in range(10):\n",
        "    print('{:8.0f}{:8.0f}{:10.0f}'.format(X[i, 0], X[i, 1], y[i]))\n",
        "    "
      ]
    },
    {
      "cell_type": "markdown",
      "metadata": {
        "id": "V-IkTxshNnXW"
      },
      "source": [
        "La desviación estándar es una forma de medir cuánta variación hay en el rango de valores de una característica en particular (la mayoría de los puntos caeran en un rango de ± 2 en relación a la desviaciones estándar de la media); esta es una alternativa a tomar el rango de valores (max-min). En `numpy`, se puede usar la función `std` para calcular la desviacion estandar. \n",
        "\n",
        "Por ejemplo, la caracteristica`X[:, 0]` contiene todos los valores de $x_1$ (tamaño de las casas) en el conjunto de entrenamiento, entonces `np.std(X[:, 0])` calcula la desviacion estandar de los tamaños de las casas.\n",
        "En el momento en que se llama a la función `featureNormalize`, la columna adicional de unos correspondiente a $ x_0 = 1 $ aún no se ha agregado a $ X $. \n",
        "\n",
        "<div class=\"alert alert-block alert-warning\">\n",
        "**Notas para la implementación:** Cuando se normalize una caracteristica, es importante almacenar los valores usados para la normalización - el valor de la media y el valor de la desviación estandar usado para los calculos. Despues de aprender los parametros del modelo, se deseara predecir los precios de casas que no se han visto antes. Dado un nuevo valor de x (area del living room y el numero de dormitorios), primero se debe normalizar x usando la media y la desviacion estandar que se empleo anteriormente en el conjunto de entrenamiento para entrenar el modelo.\n",
        "</div>\n",
        "<a id=\"featureNormalize\"></a>"
      ]
    },
    {
      "cell_type": "code",
      "execution_count": 625,
      "metadata": {
        "id": "IbkJQ4O_NnXY"
      },
      "outputs": [],
      "source": [
        "def  featureNormalize(X):\n",
        "    X_norm = X.copy()\n",
        "    mu = np.zeros(X.shape[1])\n",
        "    sigma = np.zeros(X.shape[1])\n",
        "\n",
        "    mu = np.mean(X, axis = 0)\n",
        "    sigma = np.std(X, axis = 0)\n",
        "    X_norm = (X - mu) / sigma\n",
        "    \n",
        "    return X_norm, mu, sigma"
      ]
    },
    {
      "cell_type": "code",
      "execution_count": 626,
      "metadata": {
        "colab": {
          "base_uri": "https://localhost:8080/"
        },
        "id": "7sknMYM9NnXa",
        "outputId": "513052c5-dbcf-42fe-80bb-316a84388dc4"
      },
      "outputs": [
        {
          "output_type": "stream",
          "name": "stdout",
          "text": [
            "[[203.   1. 107. ...   2.   1.   1.]\n",
            " [203.   1.  75. ...   2.   1.   1.]\n",
            " [203.   1. 122. ...   2.   1.   1.]\n",
            " ...\n",
            " [985.   1.  -3. ...   1.  11.   1.]\n",
            " [985.   1.   1. ...   1.  11.   1.]\n",
            " [985.   1.   4. ...   1.  11.   1.]]\n",
            "Media calculada: [582.27801318   1.40112994  61.09769303 192.98752354  84.43314501\n",
            "  54.06355932  31.18502825 749.38135593  60.913371    74.83050847\n",
            " 100.81920904 175.64971751   6.88700565   2.42372881   5.7740113\n",
            "   1.43502825]\n",
            "Desviación estandar calculada: [2.21114280e+02 4.90127241e-01 1.01696574e+02 1.51115337e+02\n",
            " 6.72418531e+01 3.23487893e+01 2.70200829e+01 6.60954086e+02\n",
            " 7.95367593e+01 6.62303483e+01 9.25918249e+01 1.48873996e+02\n",
            " 3.66364034e+00 1.11795904e+00 3.47952888e+00 4.95760700e-01]\n",
            "[[-1.71530312 -0.81842001  0.45136532 ... -0.37901998 -1.37202807\n",
            "  -0.87749644]\n",
            " [-1.71530312 -0.81842001  0.13670379 ... -0.37901998 -1.37202807\n",
            "  -0.87749644]\n",
            " [-1.71530312 -0.81842001  0.59886292 ... -0.37901998 -1.37202807\n",
            "  -0.87749644]\n",
            " ...\n",
            " [ 1.82132962 -0.81842001 -0.6302837  ... -1.27350713  1.50192422\n",
            "  -0.87749644]\n",
            " [ 1.82132962 -0.81842001 -0.59095101 ... -1.27350713  1.50192422\n",
            "  -0.87749644]\n",
            " [ 1.82132962 -0.81842001 -0.56145149 ... -1.27350713  1.50192422\n",
            "  -0.87749644]]\n"
          ]
        }
      ],
      "source": [
        "# llama featureNormalize con los datos cargados\n",
        "X_norm, mu, sigma = featureNormalize(X)\n",
        "\n",
        "print(X)\n",
        "print('Media calculada:', mu)\n",
        "print('Desviación estandar calculada:', sigma)\n",
        "print(X_norm)"
      ]
    },
    {
      "cell_type": "markdown",
      "metadata": {
        "id": "_C6SLiw0NnXb"
      },
      "source": [
        "Despues de `featureNormalize` la funcion es provada, se añade el temino de interseccion a `X_norm`:"
      ]
    },
    {
      "cell_type": "code",
      "execution_count": 627,
      "metadata": {
        "id": "yF-AE7iCNnXc"
      },
      "outputs": [],
      "source": [
        "# Añade el termino de interseccion a X\n",
        "# (Columna de unos para X0)\n",
        "X = np.concatenate([np.ones((m, 1)), X_norm], axis=1)"
      ]
    },
    {
      "cell_type": "code",
      "execution_count": 628,
      "metadata": {
        "colab": {
          "base_uri": "https://localhost:8080/"
        },
        "id": "6Lg8IzB4NnXd",
        "outputId": "2bb49b4e-bea9-4b20-9e8d-7eab91943e9a"
      },
      "outputs": [
        {
          "output_type": "stream",
          "name": "stdout",
          "text": [
            "[[ 1.         -1.71530312 -0.81842001 ... -0.37901998 -1.37202807\n",
            "  -0.87749644]\n",
            " [ 1.         -1.71530312 -0.81842001 ... -0.37901998 -1.37202807\n",
            "  -0.87749644]\n",
            " [ 1.         -1.71530312 -0.81842001 ... -0.37901998 -1.37202807\n",
            "  -0.87749644]\n",
            " ...\n",
            " [ 1.          1.82132962 -0.81842001 ... -1.27350713  1.50192422\n",
            "  -0.87749644]\n",
            " [ 1.          1.82132962 -0.81842001 ... -1.27350713  1.50192422\n",
            "  -0.87749644]\n",
            " [ 1.          1.82132962 -0.81842001 ... -1.27350713  1.50192422\n",
            "  -0.87749644]]\n"
          ]
        }
      ],
      "source": [
        "print(X)"
      ]
    },
    {
      "cell_type": "markdown",
      "metadata": {
        "id": "tpFWE8aONnXf"
      },
      "source": [
        "<a id=\"section5\"></a>\n",
        "### 2.2 Descenso por el gradiente\n",
        "\n",
        "En el ejemplo anterior se implemento el descenso por el gradiente para un problema de regresion univariable. La unica diferencia es que ahora existe una caracteristica adicional en la matriz $X$. La función de hipótesis y la regla de actualización del descenso del gradiente por lotes permanecen sin cambios.\n",
        "\n",
        "La implementacion de las funciones `computeCostMulti` y `gradientDescentMulti` son similares a la funcion de costo y función de descenso por el gradiente de la regresión lineal multiple es similar al de la regresion lineal multivariable. Es importante garantizar que el codigo soporte cualquier numero de caracteristicas y esten bien vectorizadas.\n",
        "\n",
        "Se puede utilizar `shape`, propiedad de los arrays `numpy`, para identificar cuantas caracteristicas estan consideradas en el dataset.\n",
        "\n",
        "<div class=\"alert alert-block alert-warning\">\n",
        "**Nota de implementación:** En el caso de multivariables, la función de costo puede se escrita considerando la forma vectorizada de la siguiente manera:\n",
        "\n",
        "$$ J(\\theta) = \\frac{1}{2m}(X\\theta - \\vec{y})^T(X\\theta - \\vec{y}) $$\n",
        "\n",
        "donde:\n",
        "\n",
        "$$ X = \\begin{pmatrix}\n",
        "          - (x^{(1)})^T - \\\\\n",
        "          - (x^{(2)})^T - \\\\\n",
        "          \\vdots \\\\\n",
        "          - (x^{(m)})^T - \\\\ \\\\\n",
        "        \\end{pmatrix} \\qquad \\mathbf{y} = \\begin{bmatrix} y^{(1)} \\\\ y^{(2)} \\\\ \\vdots \\\\ y^{(m)} \\\\\\end{bmatrix}$$\n",
        "\n",
        "La version vectorizada es eficiente cuando se trabaja con herramientas de calculo numericos computacional como `numpy`. \n",
        "</div>\n",
        "\n",
        "<a id=\"computeCostMulti\"></a>"
      ]
    },
    {
      "cell_type": "code",
      "execution_count": 629,
      "metadata": {
        "id": "2f5Lwu6xNnXg"
      },
      "outputs": [],
      "source": [
        "def computeCostMulti(X, y, theta):\n",
        "    # Inicializa algunos valores utiles\n",
        "    m = y.shape[0] # numero de ejemplos de entrenamiento\n",
        "    \n",
        "    J = 0\n",
        "    \n",
        "    h = np.dot(X, theta)\n",
        "    \n",
        "    J = (1/(2 * m)) * np.sum(np.square(np.dot(X, theta) - y))\n",
        "    \n",
        "    return J"
      ]
    },
    {
      "cell_type": "code",
      "execution_count": 630,
      "metadata": {
        "id": "bRqOikhFNnXg"
      },
      "outputs": [],
      "source": [
        "def gradientDescentMulti(X, y, theta, alpha, num_iters):\n",
        "    \n",
        "    # Inicializa algunos valores \n",
        "    m = y.shape[0] # numero de ejemplos de entrenamiento\n",
        "    \n",
        "    # realiza una copia de theta, el cual será acutalizada por el descenso por el gradiente\n",
        "    theta = theta.copy()\n",
        "    \n",
        "    J_history = []\n",
        "    \n",
        "    for i in range(num_iters):\n",
        "        theta = theta - (alpha / m) * (np.dot(X, theta) - y).dot(X)\n",
        "        J_history.append(computeCostMulti(X, y, theta))\n",
        "    \n",
        "    return theta, J_history"
      ]
    },
    {
      "cell_type": "markdown",
      "metadata": {
        "id": "4jmJhwI8NnXh"
      },
      "source": [
        "#### 3.2.1 Seleccionando coheficientes de aprendizaje\n"
      ]
    },
    {
      "cell_type": "code",
      "execution_count": 631,
      "metadata": {
        "colab": {
          "base_uri": "https://localhost:8080/",
          "height": 403
        },
        "id": "K0qMhs4cNnXi",
        "outputId": "306ba6c2-f755-4104-8ccb-edb7867d3f15"
      },
      "outputs": [
        {
          "output_type": "stream",
          "name": "stdout",
          "text": [
            "theta calculado por el descenso por el gradiente: [ 1.04293315e+02  1.86894837e-02  9.64994199e-02  5.35464167e+00\n",
            "  9.79449079e+01 -2.69491094e+01 -2.12717324e+00  1.87433312e+00\n",
            " -3.16515903e+00 -5.26248026e+00 -2.05438133e+01  2.77251146e+01\n",
            "  8.10413554e+00 -6.57149122e-01  8.06550140e-01  2.76884883e-01\n",
            "  5.04978071e-01]\n",
            "Alumno: Rodrigo Walter Andre Basilio\n",
            "El margen de ganancia que se predice con los datos proporcionados es (usando el descenso por el gradiente): $203\n"
          ]
        },
        {
          "output_type": "display_data",
          "data": {
            "text/plain": [
              "<Figure size 432x288 with 1 Axes>"
            ],
            "image/png": "[encoded data removed]"
          },
          "metadata": {
            "needs_background": "light"
          }
        }
      ],
      "source": [
        "# Elegir algun valor para alpha (probar varias alternativas)\n",
        "alpha = 0.06\n",
        "num_iters = 5000\n",
        "\n",
        "# inicializa theta y ejecuta el descenso por el gradiente\n",
        "theta = np.zeros(17)\n",
        "theta, J_history = gradientDescentMulti(X, y, theta, alpha, num_iters)\n",
        "\n",
        "# Grafica la convergencia del costo\n",
        "pyplot.plot(np.arange(len(J_history)), J_history, lw=2)\n",
        "pyplot.xlabel('Numero de iteraciones')\n",
        "pyplot.ylabel('Costo J')\n",
        "\n",
        "# Muestra los resultados del descenso por el gradiente\n",
        "print('theta calculado por el descenso por el gradiente: {:s}'.format(str(theta)))\n",
        "\n",
        "# Estimar el precio para una casa de 1650 sq-ft, con 3 dormitorios\n",
        "X_array = [1, 203,1,181,346,130,73,42,1134,130,110,180,290,2,2,1,1]\n",
        "X_array[1:17] = (X_array[1:17] - mu) / sigma\n",
        "price = np.dot(X_array, theta)   # Se debe cambiar esto\n",
        "\n",
        "print('Alumno: Rodrigo Walter Andre Basilio')\n",
        "\n",
        "print('El margen de ganancia que se predice con los datos proporcionados es (usando el descenso por el gradiente): ${:.0f}'.format(price))"
      ]
    },
    {
      "cell_type": "code",
      "execution_count": 632,
      "metadata": {
        "id": "bI8wG-4wNnXj"
      },
      "outputs": [],
      "source": [
        "X_array = [1, 203,1,181,346,130,73,42,1134,130,110,180,290,2,2,1,1]\n",
        "X_array[1:17] = (X_array[1:17] - mu) / sigma"
      ]
    },
    {
      "cell_type": "code",
      "execution_count": 633,
      "metadata": {
        "colab": {
          "base_uri": "https://localhost:8080/"
        },
        "id": "HFLrBkbxNnXj",
        "outputId": "71e9b465-0d56-409e-c3f5-ae9140c8880f"
      },
      "outputs": [
        {
          "output_type": "execute_result",
          "data": {
            "text/plain": [
              "[-1.7153031178467975,\n",
              " -0.818420014879106,\n",
              " 1.179020122202731,\n",
              " 1.0125542459138024,\n",
              " 0.6776561453364319,\n",
              " 0.5853832885249856,\n",
              " 0.40025679399752695,\n",
              " 0.5819143148514694,\n",
              " 0.8686125716552441,\n",
              " 0.5310177652039766,\n",
              " 0.8551596327835813,\n",
              " 0.7681011148692016,\n",
              " -1.3339206906254892,\n",
              " -0.37901997922558234,\n",
              " -1.372028073289186,\n",
              " -0.8774964387392025]"
            ]
          },
          "metadata": {},
          "execution_count": 633
        }
      ],
      "source": [
        "X_array[1:17]"
      ]
    },
    {
      "cell_type": "markdown",
      "metadata": {
        "id": "6XT-aDD6NnXk"
      },
      "source": [
        "<a id=\"section7\"></a>\n",
        "### 2.3 Ecuacion de la Normal\n",
        "\n",
        "Una manera de calcular rapidamente el modelo de una regresion lineal es:\n",
        "\n",
        "$$ \\theta = \\left( X^T X\\right)^{-1} X^T\\vec{y}$$\n",
        "\n",
        "Utilizando esta formula no requiere que se escale ninguna caracteristica, y se obtendra una solucion exacta con un solo calculo: no hay “bucles de convergencia” como en el descenso por el gradiente. \n",
        "\n",
        "Primero se recargan los datos para garantizar que las variables no esten modificadas. Recordar que no es necesario escalar las caracteristicas, se debe agregar la columna de unos a la matriz $X$ para tener el termino de intersección($\\theta_0$). "
      ]
    },
    {
      "cell_type": "code",
      "execution_count": 634,
      "metadata": {
        "id": "sgb44ynONnXl"
      },
      "outputs": [],
      "source": [
        "# Cargar datos\n",
        "data = np.loadtxt(os.path.join('sales1.csv'), delimiter=',')\n",
        "X = data[:, :16]\n",
        "y = data[:, 16]\n",
        "m = y.size\n",
        "X = np.concatenate([np.ones((m, 1)), X], axis=1)"
      ]
    },
    {
      "cell_type": "code",
      "execution_count": 635,
      "metadata": {
        "id": "Gkp2ljeVNnXl"
      },
      "outputs": [],
      "source": [
        "def normalEqn(X, y):\n",
        "  \n",
        "    theta = np.zeros(X.shape[1])\n",
        "    \n",
        "    theta = np.dot(np.dot(np.linalg.inv(np.dot(X.T,X)),X.T),y)\n",
        "    \n",
        "    return theta"
      ]
    },
    {
      "cell_type": "code",
      "execution_count": 636,
      "metadata": {
        "colab": {
          "base_uri": "https://localhost:8080/"
        },
        "id": "LsCz0DQnNnXm",
        "outputId": "a3b1a7bf-eafc-4fbf-9901-6704a2ec528a"
      },
      "outputs": [
        {
          "output_type": "stream",
          "name": "stdout",
          "text": [
            "Theta calculado a partir de la ecuación de la normal: [-4.42681453e+02  5.53490785e-01  8.23080902e+00 -3.53968839e-01\n",
            "  1.74119400e+00 -1.66656012e+00  1.35550762e+00 -2.75794577e+00\n",
            "  2.85229652e-02 -9.09731183e-01 -6.68382084e-01 -6.64573510e-02\n",
            "  8.08598079e-01 -1.66540259e-01  7.30512018e-01  3.21118776e-02\n",
            "  1.00373694e+00]\n",
            "Alumno: Rodrigo Walter Andre Basilio\n",
            "El margen de ganancia que se predice con los datos proporcionados es (usando la ecuación de la normal): $48\n"
          ]
        }
      ],
      "source": [
        "# Calcula los parametros con la ecuación de la normal\n",
        "theta = normalEqn(X, y);\n",
        "\n",
        "# Muestra los resultados optenidos a partir de la aplicación de la ecuación de la normal\n",
        "print('Theta calculado a partir de la ecuación de la normal: {:s}'.format(str(theta)));\n",
        "\n",
        "# Estimar el precio para una casa de superficie de 1650 sq-ft y tres dormitorios\n",
        "\n",
        "X_array = [1, 203,1,181,346,130,73,42,1134,130,110,180,290,2,2,1,1]\n",
        "price = np.dot(X_array, theta) \n",
        "\n",
        "print('Alumno: Rodrigo Walter Andre Basilio')\n",
        "\n",
        "print('El margen de ganancia que se predice con los datos proporcionados es (usando la ecuación de la normal): ${:.0f}'.format(price))"
      ]
    },
    {
      "cell_type": "markdown",
      "source": [
        "Los mejores resultados para el desende la gradiente se obtuvieron conlos siguientes datos:\n",
        "- Alpha = 0.06\n",
        "- Numero de Iterasiones = 5000\n",
        "\n",
        "Alumno: Rodrigo Walter Andre Basilio"
      ],
      "metadata": {
        "id": "jEnTP8mtElzc"
      }
    }
  ],
  "metadata": {
    "kernelspec": {
      "display_name": "Python 3",
      "language": "python",
      "name": "python3"
    },
    "language_info": {
      "codemirror_mode": {
        "name": "ipython",
        "version": 3
      },
      "file_extension": ".py",
      "mimetype": "text/x-python",
      "name": "python",
      "nbconvert_exporter": "python",
      "pygments_lexer": "ipython3",
      "version": "3.8.3"
    },
    "colab": {
      "provenance": []
    }
  },
  "nbformat": 4,
  "nbformat_minor": 0
}